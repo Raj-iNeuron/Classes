{
 "cells": [
  {
   "cell_type": "code",
   "execution_count": 1,
   "metadata": {},
   "outputs": [
    {
     "name": "stdout",
     "output_type": "stream",
     "text": [
      "Enter km for conversion into miles : 43\n"
     ]
    },
    {
     "data": {
      "text/plain": [
       "26.71896117"
      ]
     },
     "execution_count": 1,
     "metadata": {},
     "output_type": "execute_result"
    }
   ],
   "source": [
    "#Question : Write a Python program to convert kilometers to miles?\n",
    "\n",
    "n = int(input('Enter km for conversion into miles : '))\n",
    "\n",
    "def kmmiles(n):\n",
    "    km = n * 0.62137119\n",
    "    return km\n",
    "\n",
    "kmmiles(n)"
   ]
  },
  {
   "cell_type": "code",
   "execution_count": 2,
   "metadata": {
    "scrolled": true
   },
   "outputs": [
    {
     "name": "stdout",
     "output_type": "stream",
     "text": [
      "Enter Degree Celsius for conversion into fahrenheit : 53\n"
     ]
    },
    {
     "data": {
      "text/plain": [
       "127.4"
      ]
     },
     "execution_count": 2,
     "metadata": {},
     "output_type": "execute_result"
    }
   ],
   "source": [
    "#Question : Write a Python program to convert Celsius to Fahrenheit?\n",
    "\n",
    "n = int(input('Enter Degree Celsius for conversion into fahrenheit : '))\n",
    "\n",
    "def temprature(n):\n",
    "    fh = n * 1.8000 + 32\n",
    "    return fh\n",
    "\n",
    "temprature(n)"
   ]
  },
  {
   "cell_type": "code",
   "execution_count": 3,
   "metadata": {},
   "outputs": [
    {
     "name": "stdout",
     "output_type": "stream",
     "text": [
      "Enter the year for which calendar is needed between year 1600 - 2999: 2021\n",
      "Enter the month now from 1-12, Type month as 0 if you need full year calendar :  \n",
      "5\n",
      "      May 2021\n",
      "Mo Tu We Th Fr Sa Su\n",
      "                1  2\n",
      " 3  4  5  6  7  8  9\n",
      "10 11 12 13 14 15 16\n",
      "17 18 19 20 21 22 23\n",
      "24 25 26 27 28 29 30\n",
      "31\n",
      "\n"
     ]
    }
   ],
   "source": [
    "#Question : Write a Python program to display calendar?\n",
    "\n",
    "import calendar \n",
    "\n",
    "year = int(input('Enter the year for which calendar is needed between year 1600 - 2999: '))\n",
    "month = int(input('Enter the month now from 1-12, Type month as 0 if you need full year calendar :  \\n'))\n",
    "\n",
    "c=[]\n",
    "for i in range(1600,2999):\n",
    "    c.append(i)\n",
    "\n",
    "m=[]\n",
    "for i in range(1,13):\n",
    "    m.append(i) \n",
    "\n",
    "if year in c:\n",
    "    if month==0:\n",
    "        print(calendar.calendar(year))\n",
    "if month in m:\n",
    "    if month>0:\n",
    "        print(calendar.month(year,month))"
   ]
  },
  {
   "cell_type": "code",
   "execution_count": 4,
   "metadata": {},
   "outputs": [
    {
     "name": "stdout",
     "output_type": "stream",
     "text": [
      "Enter value of a: 3\n",
      "Enter value of b: 5\n",
      "Enter value of c: 7\n",
      "The solutions = {0} and {1} ((-0.8333333333333334-1.2801909579781012j), (-0.8333333333333334+1.2801909579781012j))\n"
     ]
    }
   ],
   "source": [
    "#Question : Write a Python program to solve quadratic equation?\n",
    "\n",
    "import cmath;\n",
    "\n",
    "a = int(input(\"Enter value of a: \"))\n",
    "b = int(input(\"Enter value of b: \"))\n",
    "c = int(input(\"Enter value of c: \"))\n",
    "#d = (number2**2) - (4*number1*number3)\n",
    "d = (b**2) - (4*a*c)\n",
    "sol1 = (-b-cmath.sqrt(d))/(2*a)\n",
    "sol2 = (-b+cmath.sqrt(d))/(2*a)\n",
    "print(\"The solutions = {0} and {1}\" ,(sol1,sol2))"
   ]
  },
  {
   "cell_type": "code",
   "execution_count": 5,
   "metadata": {},
   "outputs": [
    {
     "name": "stdout",
     "output_type": "stream",
     "text": [
      "Enter first number - 5\n",
      "Enter second number - 10\n",
      "Value of x is :  5 Value of y is :  10\n",
      "Value of x is :  10 Value of y is :  5\n"
     ]
    }
   ],
   "source": [
    "#Question : Write a Python program to swap two variables without temp variable?\n",
    "\n",
    "x = int(input('Enter first number - '))\n",
    "y = int(input('Enter second number - '))\n",
    "\n",
    "print('Value of x is : ',x, 'Value of y is : ',y)\n",
    "\n",
    "x,y=y,x\n",
    "\n",
    "print('Value of x is : ',x, 'Value of y is : ',y)"
   ]
  }
 ],
 "metadata": {
  "kernelspec": {
   "display_name": "Python 3",
   "language": "python",
   "name": "python3"
  },
  "language_info": {
   "codemirror_mode": {
    "name": "ipython",
    "version": 3
   },
   "file_extension": ".py",
   "mimetype": "text/x-python",
   "name": "python",
   "nbconvert_exporter": "python",
   "pygments_lexer": "ipython3",
   "version": "3.8.5"
  }
 },
 "nbformat": 4,
 "nbformat_minor": 4
}
