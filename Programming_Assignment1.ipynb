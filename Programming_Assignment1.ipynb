{
 "cells": [
  {
   "cell_type": "code",
   "execution_count": 1,
   "metadata": {},
   "outputs": [
    {
     "name": "stdout",
     "output_type": "stream",
     "text": [
      "Hello Python\n"
     ]
    }
   ],
   "source": [
    "#Question : Write a Python program to print 'Hello Python' ?\n",
    "\n",
    "print('Hello Python')"
   ]
  },
  {
   "cell_type": "code",
   "execution_count": 2,
   "metadata": {},
   "outputs": [
    {
     "name": "stdout",
     "output_type": "stream",
     "text": [
      "Enter a number : 50\n",
      "Enter another number : 5\n",
      "The submission of :  50 and 5 is  55 The division of :  50 and 5 is  10.0\n"
     ]
    }
   ],
   "source": [
    "#Question : Write a Python program to do arithmetical operations addition and division.?\n",
    "\n",
    "a = int(input('Enter a number : '))\n",
    "b = int(input('Enter another number : '))\n",
    "\n",
    "z = a+b\n",
    "w = a/b\n",
    "print('The submission of : ',a, 'and' ,b,'is ',z,'The division of : ',a ,'and', b,'is ',w)"
   ]
  },
  {
   "cell_type": "code",
   "execution_count": 3,
   "metadata": {},
   "outputs": [
    {
     "name": "stdout",
     "output_type": "stream",
     "text": [
      "Enter the base : 4\n",
      "Enter the height : 3\n",
      "The area of triangle with base : 4 and 3 is : 6.0 cm square\n"
     ]
    }
   ],
   "source": [
    "#Question : Write a Python program to find the area of a triangle?\n",
    "\n",
    "b = int(input('Enter the base : '))\n",
    "h = int(input('Enter the height : '))\n",
    "\n",
    "area = 0.5 * b * h\n",
    "\n",
    "print('The area of triangle with base :',b, 'and', h, 'is :', area, 'cm square')"
   ]
  },
  {
   "cell_type": "code",
   "execution_count": 4,
   "metadata": {},
   "outputs": [
    {
     "name": "stdout",
     "output_type": "stream",
     "text": [
      "Enter first number - 55\n",
      "Enter second number - 11\n",
      "Value of x is :  55 Value of y is :  11\n",
      "Value of x is :  11 Value of y is :  55\n"
     ]
    }
   ],
   "source": [
    "#Question : Write a Python program to swap two variables?\n",
    "\n",
    "x = int(input('Enter first number - '))\n",
    "y = int(input('Enter second number - '))\n",
    "\n",
    "print('Value of x is : ',x, 'Value of y is : ',y)\n",
    "temp=x\n",
    "x=y\n",
    "y=temp\n",
    "print('Value of x is : ',x, 'Value of y is : ',y)"
   ]
  },
  {
   "cell_type": "code",
   "execution_count": 5,
   "metadata": {},
   "outputs": [
    {
     "name": "stdout",
     "output_type": "stream",
     "text": [
      "Enter starting range of random number : 90\n",
      "Enter end range of random number : 150\n",
      "Random number generated within the range from :  90 to 150 is 93\n"
     ]
    }
   ],
   "source": [
    "#Question : Write a Python program to generate a random number?\n",
    "\n",
    "import random\n",
    "\n",
    "a = int(input('Enter starting range of random number : '))\n",
    "b = int(input('Enter end range of random number : '))\n",
    "\n",
    "print('Random number generated within the range from : ',a, 'to', b, 'is', random.randint(a,b))"
   ]
  },
  {
   "cell_type": "code",
   "execution_count": null,
   "metadata": {},
   "outputs": [],
   "source": []
  }
 ],
 "metadata": {
  "kernelspec": {
   "display_name": "Python 3",
   "language": "python",
   "name": "python3"
  },
  "language_info": {
   "codemirror_mode": {
    "name": "ipython",
    "version": 3
   },
   "file_extension": ".py",
   "mimetype": "text/x-python",
   "name": "python",
   "nbconvert_exporter": "python",
   "pygments_lexer": "ipython3",
   "version": "3.7.3"
  }
 },
 "nbformat": 4,
 "nbformat_minor": 2
}
