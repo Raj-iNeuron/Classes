{
 "cells": [
  {
   "cell_type": "code",
   "execution_count": null,
   "metadata": {},
   "outputs": [],
   "source": [
    "\"\"\" 1. In the below elements which of them are values or an expression? eg:- values can be\n",
    "integer or string and expressions will be mathematical operators.\n",
    "*\n",
    "hello\n",
    "-87.8\n",
    "-\n",
    "/\n",
    "+\n",
    "6\n",
    "\"\"\"\n",
    "\n",
    "## ANSWER \n",
    "\n",
    "* is an expression\n",
    "'hello' is a string\n",
    "-87.8 is float\n",
    "- is an expression\n",
    "/ is an expression\n",
    "+ is an expression\n",
    "6 is an integer"
   ]
  },
  {
   "cell_type": "code",
   "execution_count": null,
   "metadata": {},
   "outputs": [],
   "source": [
    "2. What is the difference between string and variable?\n",
    "\n",
    "## Answer :\n",
    "\n",
    "String is a alphanumeric value for an eg any text like 'Ram' or any alphanumeric value like 'Aman98320'\n",
    "\n",
    "Variable is a object where a value is stored. For example \n",
    "\n",
    "data = ['My name is raman']\n",
    "\n",
    "Here, data is a variable name. It should be noted that variable name cannot start with numerics or special characters\n"
   ]
  },
  {
   "cell_type": "code",
   "execution_count": null,
   "metadata": {},
   "outputs": [],
   "source": [
    "3. Describe three different data types.\n",
    "\n",
    "## Answer\n",
    "\n",
    "The three data types are \n",
    "\n",
    "Str (String) = It stores alphanumeric values like 'Ram', 'Sita'. String must be always between quotations\n",
    "int (Integer) = It stores absolute numbers like 57, 98 \n",
    "float = Float stores floating point number like 2.9, 89.8"
   ]
  },
  {
   "cell_type": "code",
   "execution_count": null,
   "metadata": {},
   "outputs": [],
   "source": [
    "4. What is an expression made up of? What do all expressions do?\n",
    "\n",
    "# Answer\n",
    " \n",
    "Expression are made up of variables and constants, along with algebraic operations like sum, substract, divide, percentage etc\n",
    "\n",
    "Expression helps in manipluating the values for data prepration. They are very helpful while aggrerating variables whicch are of Int or float type\n"
   ]
  },
  {
   "cell_type": "code",
   "execution_count": null,
   "metadata": {},
   "outputs": [],
   "source": [
    "5. This assignment statements, like spam = 10. What is the difference between an\n",
    "expression and a statement?\n",
    "\n",
    "# Answer \n",
    "\n",
    "The statement is, we are assigning value to to a variable spam, where = (equal to) is a expression\n"
   ]
  },
  {
   "cell_type": "code",
   "execution_count": null,
   "metadata": {},
   "outputs": [],
   "source": [
    "6. After running the following code, what does the variable bacon contain?\n",
    "bacon = 22\n",
    "bacon + 1\n",
    "\n",
    "\n",
    "# Answer :\n",
    "\n",
    "The variable bacon will contain 22, until the variable is assigned again.\n",
    "\n",
    "bacon = 22 + 1, here bacon will present 23"
   ]
  },
  {
   "cell_type": "code",
   "execution_count": null,
   "metadata": {},
   "outputs": [],
   "source": [
    "7. What should the values of the following two terms be?\n",
    "\n",
    "'spam' + 'spamspam'\n",
    "'spam * 3'\n",
    "\n",
    "# Answer\n",
    "\n",
    "'spamspamspam' will be the answer of both the cases. In first scenario we are concatenating the text by which we are getting 3 \n",
    "spam values, where as in the 2nd scenario we are multiplying the string 'spam' * 3, which repeats 'spam' three times\n",
    "\n"
   ]
  },
  {
   "cell_type": "code",
   "execution_count": null,
   "metadata": {},
   "outputs": [],
   "source": [
    "8. Why is eggs a valid variable name while 100 is invalid?\n",
    "\n",
    "# Answer\n",
    "\n",
    "While assigning a variable name there are some rule, like it naming convention cannot start with Intger or special characters.\n",
    "The variable name must start with letter & underscore.\n",
    "\n",
    "Although you can use numbers in variable name, after the 0 index like num_1 or r5"
   ]
  },
  {
   "cell_type": "code",
   "execution_count": null,
   "metadata": {},
   "outputs": [],
   "source": [
    "9. What three functions can be used to get the integer, floating-point number, or string\n",
    "version of a value?\n",
    "\n",
    "# Answer\n",
    "\n",
    "for integer its int\n",
    "for string its str\n",
    "for float its float"
   ]
  },
  {
   "cell_type": "code",
   "execution_count": null,
   "metadata": {},
   "outputs": [],
   "source": [
    "10. Why does this expression cause an error? How can you fix it?\n",
    "\n",
    "'I have eaten' + 99 + 'burritos.'\n",
    "\n",
    "# Answer\n",
    "\n",
    "This expression will cause an error as we are trying to concatinate string & int data dtypes. \n",
    "Here :\n",
    "    \n",
    "    'I have eaten' & 'burritos.' is string data type\n",
    "    where as 99 is integer data type\n",
    "    \n",
    "if we want to concatinate, we can use \n",
    "\n",
    "'I have eaten' + '99' + 'burritos.'"
   ]
  }
 ],
 "metadata": {
  "kernelspec": {
   "display_name": "Python 3",
   "language": "python",
   "name": "python3"
  },
  "language_info": {
   "codemirror_mode": {
    "name": "ipython",
    "version": 3
   },
   "file_extension": ".py",
   "mimetype": "text/x-python",
   "name": "python",
   "nbconvert_exporter": "python",
   "pygments_lexer": "ipython3",
   "version": "3.8.5"
  }
 },
 "nbformat": 4,
 "nbformat_minor": 4
}
